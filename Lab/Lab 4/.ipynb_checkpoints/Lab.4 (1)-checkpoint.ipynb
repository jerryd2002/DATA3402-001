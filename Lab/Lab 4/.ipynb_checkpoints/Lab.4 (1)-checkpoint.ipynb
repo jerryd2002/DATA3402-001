{
 "cells": [
  {
   "cell_type": "markdown",
   "metadata": {},
   "source": [
    "# Lab 4- Object Oriented Programming\n",
    "\n",
    "For all of the exercises below, make sure you provide tests of your solutions.\n"
   ]
  },
  {
   "cell_type": "markdown",
   "metadata": {},
   "source": [
    "1. Write a \"counter\" class that can be incremented up to a specified maximum value, will print an error if an attempt is made to increment beyond that value, and allows reseting the counter. "
   ]
  },
  {
   "cell_type": "code",
   "execution_count": null,
   "metadata": {},
   "outputs": [],
   "source": [
    "class Counter:\n",
    "    def __init__(self, max_value):\n",
    "        self.max_value = max_value\n",
    "        self.value = 0\n",
    "\n",
    "    def increment(self):\n",
    "        self.value = min(self.value + 1, self.max_value)\n",
    "\n",
    "    def reset(self):\n",
    "        self.value = 0\n",
    "\n",
    "    def __str__(self):\n",
    "        return str(self.value)\n",
    "\n",
    "max_counter_value = 5\n",
    "counter = Counter(max_counter_value)\n",
    "\n",
    "print(\"Starting value:\", counter)\n",
    "\n",
    "for _ in range(max_counter_value + 1):\n",
    "    counter.increment()\n",
    "    print(\"Increment Value:\", counter)\n",
    "\n",
    "counter.reset()\n",
    "print(\"Reset:\", counter)\n"
   ]
  },
  {
   "cell_type": "markdown",
   "metadata": {},
   "source": [
    "2. Copy and paste your solution to question 1 and modify it so that all the data held by the counter is private. Implement functions to check the value of the counter, check the maximum value, and check if the counter is at the maximum."
   ]
  },
  {
   "cell_type": "code",
   "execution_count": null,
   "metadata": {},
   "outputs": [],
   "source": [
    "class Counter:\n",
    "    def __init__(self, max_value):\n",
    "        self.__max_value = max_value\n",
    "        self.__value = 0\n",
    "\n",
    "    def increment(self):\n",
    "        self.__value = min(self.__value + 1, self.__max_value)\n",
    "\n",
    "    def reset(self):\n",
    "        self.__value = 0\n",
    "\n",
    "    def get_value(self):\n",
    "        return self.__value\n",
    "\n",
    "    def get_max_value(self):\n",
    "        return self.__max_value\n",
    "\n",
    "    def is_at_max(self):\n",
    "        return self.__value == self.__max_value\n",
    "\n",
    "    def __str__(self):\n",
    "        return str(self.__value)\n",
    "\n",
    "max_counter_value = 5\n",
    "counter = Counter(max_counter_value)\n",
    "\n",
    "print(\"Starting value:\", counter.get_value())\n",
    "\n",
    "for _ in range(max_counter_value + 1):\n",
    "    counter.increment()\n",
    "    print(\"Increment Value:\", counter.get_value())\n",
    "\n",
    "counter.reset()\n",
    "print(\"Reset:\", counter)"
   ]
  },
  {
   "cell_type": "raw",
   "metadata": {},
   "source": [
    "## 3. Implement a class to represent a rectangle, holding the length, width, and $x$ and $y$ coordinates of a corner of the object. Implement functions that compute the area and perimeter of the rectangle. Make all data members private and privide accessors to retrieve values of data members. "
   ]
  },
  {
   "cell_type": "code",
   "execution_count": null,
   "metadata": {},
   "outputs": [],
   "source": [
    "class Rectangle:\n",
    "    def __init__(self, length, width, x, y):\n",
    "        self.__length = length\n",
    "        self.__width = width\n",
    "        self.__x = x\n",
    "        self.__y = y\n",
    "\n",
    "    def get_length(self):\n",
    "        return self.__length\n",
    "\n",
    "    def get_width(self):\n",
    "        return self.__width\n",
    "\n",
    "    def get_x(self):\n",
    "        return self.__x\n",
    "\n",
    "    def get_y(self):\n",
    "        return self.__y\n",
    "\n",
    "    def area(self):\n",
    "        return self.__length * self.__width\n",
    "\n",
    "    def perimeter(self):\n",
    "        return 2 * (self.__length + self.__width)\n",
    "\n",
    "\n",
    "rectangle = Rectangle(4, 6, 3, 3)\n",
    "print(\"Length of Rectangle:\", rectangle.get_length())\n",
    "print(\"Width of Rectangle:\", rectangle.get_width())\n",
    "print(\"Area of Rectangle:\", rectangle.area())\n",
    "print(\"Perimeter of Rectangle:\", rectangle.perimeter())\n",
    "print(\"X coordinate:\", rectangle.get_x())\n",
    "print(\"Y coordinate:\", rectangle.get_y())"
   ]
  },
  {
   "cell_type": "markdown",
   "metadata": {},
   "source": [
    "4. Implement a class to represent a circle, holding the radius and $x$ and $y$ coordinates of center of the object. Implement functions that compute the area and perimeter of the rectangle. Make all data members private and privide accessors to retrieve values of data members. "
   ]
  },
  {
   "cell_type": "code",
   "execution_count": null,
   "metadata": {},
   "outputs": [],
   "source": [
    "class Circle:\n",
    "    def __init__(self, radius, x, y):\n",
    "        self.__radius = radius\n",
    "        self.__x = x\n",
    "        self.__y = y\n",
    "\n",
    "    def get_radius(self):\n",
    "        return self.__radius\n",
    "\n",
    "    def get_x(self):\n",
    "        return self.__x\n",
    "\n",
    "    def get_y(self):\n",
    "        return self.__y\n",
    "\n",
    "    def area(self):\n",
    "        return 3.141592653589793 * (self.__radius ** 2)\n",
    "\n",
    "    def circumference(self):\n",
    "        return 2 * 3.141592653589793 * self.__radius\n",
    "\n",
    "circle = Circle(8, 3, 3)\n",
    "print(\"Radius of Circle:\", circle.get_radius())\n",
    "print(\"Area of Circle:\", circle.area())\n",
    "print(\"Circumference of Circle:\", circle.circumference())\n",
    "print(\"X coordinate:\", circle.get_x())\n",
    "print(\"Y coordinate:\", circle.get_y())"
   ]
  },
  {
   "cell_type": "markdown",
   "metadata": {},
   "source": [
    "5. Implement a common base class for the classes implemented in 3 and 4 above which implements all common methods as not implemented functions (virtual). Re-implement those classes to inherit from the base class and overload the functions accordingly. "
   ]
  },
  {
   "cell_type": "code",
   "execution_count": null,
   "metadata": {},
   "outputs": [],
   "source": [
    "class Shape:\n",
    "    def __init__(self, x, y):\n",
    "        self.__x = x\n",
    "        self.__y = y\n",
    "\n",
    "    def get_x(self):\n",
    "        return self.__x\n",
    "\n",
    "    def get_y(self):\n",
    "        return self.__y\n",
    "\n",
    "    def area(self):\n",
    "        pass\n",
    "\n",
    "    def perimeter(self):\n",
    "        pass\n",
    "\n",
    "    def display_coordinates(self):\n",
    "        return f\"Coordinates: ({self.__x}, {self.__y})\"\n",
    "\n",
    "class Rectangle(Shape):\n",
    "    def __init__(self, length, width, x, y):\n",
    "        super().__init__(x, y)\n",
    "        self.__length = length\n",
    "        self.__width = width\n",
    "\n",
    "    def area(self):\n",
    "        return self.__length * self.__width\n",
    "\n",
    "    def perimeter(self):\n",
    "        return 2 * (self.__length + self.__width)\n",
    "\n",
    "class Circle(Shape):\n",
    "    def __init__(self, radius, x, y):\n",
    "        super().__init__(x, y)\n",
    "        self.__radius = radius\n",
    "\n",
    "    def area(self):\n",
    "        return 3.141592653589793 * (self.__radius ** 2)\n",
    "\n",
    "    def perimeter(self):\n",
    "        return 2 * 3.141592653589793 * self.__radius\n",
    "\n",
    "rectangle = Rectangle(8, 4, 3, 3)\n",
    "circle = Circle(8, 3, 3)\n",
    "\n",
    "print(\"Area of Recetangle\", rectangle.area())\n",
    "print(\"Permieter of Recentangle:\", rectangle.perimeter())\n",
    "print(rectangle.display_coordinates(),'\\n') \n",
    "\n",
    "print(\"Area of Circle:\", circle.area())\n",
    "print(\"Permieter of Circle:\", circle.perimeter())\n",
    "print(circle.display_coordinates())  "
   ]
  },
  {
   "cell_type": "markdown",
   "metadata": {},
   "source": [
    "6. Implement an analogous triangle class."
   ]
  },
  {
   "cell_type": "code",
   "execution_count": null,
   "metadata": {},
   "outputs": [],
   "source": [
    "class Triangle:\n",
    "    def __init__(self, side1, side2, side3):\n",
    "        self.__side1 = side1\n",
    "        self.__side2 = side2\n",
    "        self.__side3 = side3\n",
    "\n",
    "    def get_side1(self):\n",
    "        return self.__side1\n",
    "\n",
    "    def get_side2(self):\n",
    "        return self.__side2\n",
    "\n",
    "    def get_side3(self):\n",
    "        return self.__side3\n",
    "\n",
    "    def area(self):\n",
    "        s = self.semiperimeter()\n",
    "        return (s * (s - self.__side1) * (s - self.__side2) * (s - self.__side3)) ** 0.5\n",
    "\n",
    "    def semiperimeter(self):\n",
    "        return (self.__side1 + self.__side2 + self.__side3) / 2\n",
    "\n",
    "    def perimeter(self):\n",
    "        return self.__side1 + self.__side2 + self.__side3\n",
    "\n",
    "triangle = Triangle(6, 8, 10)\n",
    "\n",
    "print(\"Side 1:\", triangle.get_side1())\n",
    "print(\"Side 2:\", triangle.get_side2())\n",
    "print(\"Side 3:\", triangle.get_side3())\n",
    "print(\"Area of Triangle:\", triangle.area())\n",
    "print(\"Perimeter of Triangle:\", triangle.perimeter())"
   ]
  },
  {
   "cell_type": "raw",
   "metadata": {},
   "source": [
    "7. Add a function to the object classes that tests if a given set of $x$ and $y$ coordinates are inside of the object."
   ]
  },
  {
   "cell_type": "code",
   "execution_count": null,
   "metadata": {},
   "outputs": [],
   "source": [
    "#rectangle \n",
    "    def is_inside(self, x, y):\n",
    "        return (\n",
    "            self.__x <= x <= self.__x + self.__length and\n",
    "            self.__y <= y <= self.__y + self.__width\n",
    "        )\n",
    "rectangle = Rectangle(8, 4, 3, 3)\n",
    "print(\"Is point (2, 2) inside the Rectangle?\", rectangle.is_inside(2, 2))\n",
    "\n",
    "#circle\n",
    "    def is_inside(self, x, y):\n",
    "        distance_squared = (x - self.__x) ** 2 + (y - self.__y) ** 2\n",
    "        return distance_squared <= self.__radius ** 2 \n",
    "    \n",
    "circle = Circle(8, 3, 3)\n",
    "print(\"Is point (2, 2) inside the Circle?\", Circle.is_inside(2,2) )\n",
    "#triangle\n"
   ]
  },
  {
   "cell_type": "raw",
   "metadata": {},
   "source": [
    "8. Add a function to the object classes that return a list of up to 16 pairs of  $x$ and $y$ points on the parameter of the object."
   ]
  },
  {
   "cell_type": "code",
   "execution_count": null,
   "metadata": {},
   "outputs": [],
   "source": [
    "# Rectangle\n",
    "\n",
    "    def parameter_points(self):\n",
    "        points = []\n",
    "\n",
    "        for i in range(16):\n",
    "            if i == 0 or i == 16:\n",
    "                continue\n",
    "            x = self.__x + (i / 16) * self.__length\n",
    "            y1 = self.__y\n",
    "            y2 = self.__y + self.__width\n",
    "            points.append((x, y1))\n",
    "            points.append((x, y2))\n",
    "\n",
    "        for i in range(16):\n",
    "            if i == 0 or i == 16:\n",
    "                continue\n",
    "            y = self.__y + (i / 16) * self.__width\n",
    "            x1 = self.__x\n",
    "            x2 = self.__x + self.__length\n",
    "            points.append((x1, y))\n",
    "            points.append((x2, y))\n",
    "\n",
    "        return points\n",
    "\n",
    "# Circle\n",
    "import math\n",
    "\n",
    "    def parameter_points(self):\n",
    "        points = []\n",
    "\n",
    "        for i in range(16):\n",
    "            angle = i * (2 * 3.141592653589793 / 16)\n",
    "            x = self.__x + self.__radius * math.cos(angle)\n",
    "            y = self.__y + self.__radius * math.sin(angle)\n",
    "            points.append((x, y))\n",
    "\n",
    "        return points\n",
    "\n",
    "# Triangle\n",
    "    def parameter_points(self):\n",
    "        points = []\n",
    "\n",
    "        for i in range(16):\n",
    "            t = i / 16\n",
    "            x = t * self.__side1\n",
    "            y = 0\n",
    "            points.append((x, y))\n",
    "\n",
    "        for i in range(16):\n",
    "            t = i / 16\n",
    "            x = t * self.__side1\n",
    "            y = (1 - t) * self.__side2\n",
    "            points.append((x, y))\n",
    "\n",
    "        for i in range(17):\n",
    "            t = i / 16\n",
    "            x = 0\n",
    "            y = t * self.__side2\n",
    "            points.append((x, y))\n",
    "\n",
    "        return points"
   ]
  },
  {
   "cell_type": "raw",
   "metadata": {},
   "source": [
    "9. Add a function in the base class of the object classes that returns true/false testing that the object overlaps with another object."
   ]
  },
  {
   "cell_type": "code",
   "execution_count": null,
   "metadata": {},
   "outputs": [],
   "source": [
    "# Rectangle\n",
    "\n",
    "    def __init__(self, length, width, x, y):\n",
    "        self.__length = length\n",
    "        self.__width = width\n",
    "        self.__x = x\n",
    "        self.__y = y\n",
    "\n",
    "    def overlaps(self, other):\n",
    "        if isinstance(other, Rectangle):\n",
    "            self_x1, self_y1 = self.__x, self.__y\n",
    "            self_x2, self_y2 = self.__x + self.__length, self.__y + self.__width\n",
    "\n",
    "            other_x1, other_y1 = other.__x, other.__y\n",
    "            other_x2, other_y2 = other.__x + other.__length, other.__y + other.__width\n",
    "\n",
    "            return (\n",
    "                self_x1 < other_x2 and self_x2 > other_x1 and\n",
    "                self_y1 < other_y2 and self_y2 > other_y1\n",
    "            )\n",
    "        else:\n",
    "            raise TypeError(\"Overlap check with unsupported shape\")\n",
    "\n",
    "# Circle\n",
    "    def __init__(self, radius, x, y):\n",
    "        self.__radius = radius\n",
    "        self.__x = x\n",
    "        self.__y = y\n",
    "\n",
    "    def overlaps(self, other):\n",
    "        if isinstance(other, Circle):\n",
    "            distance_squared = (self.__x - other.__x) ** 2 + (self.__y - other.__y) ** 2\n",
    "            return distance_squared < (self.__radius + other.__radius) ** 2\n",
    "        else:\n",
    "            raise TypeError(\"Overlap check with unsupported shape\")\n"
   ]
  },
  {
   "cell_type": "markdown",
   "metadata": {},
   "source": [
    "10. Copy the `Canvas` class from lecture to in a python file creating a `paint` module. Copy your classes from above into the module and implement paint functions. Implement a `CompoundShape` class. Create a simple drawing demonstrating that all of your classes are working."
   ]
  },
  {
   "cell_type": "code",
   "execution_count": null,
   "metadata": {},
   "outputs": [],
   "source": []
  },
  {
   "cell_type": "markdown",
   "metadata": {},
   "source": [
    "11. Create a `RasterDrawing` class. Demonstrate that you can create a drawing made of several shapes, paint the drawing, modify the drawing, and paint it again. "
   ]
  },
  {
   "cell_type": "code",
   "execution_count": null,
   "metadata": {},
   "outputs": [],
   "source": []
  },
  {
   "cell_type": "markdown",
   "metadata": {},
   "source": [
    "12. Implement the ability to load/save raster drawings and demonstate that your method works. One way to implement this ability:\n",
    "\n",
    "   * Overload `__repr__` functions of all objects to return strings of the python code that would construct the object.\n",
    "   \n",
    "   * In the save method of raster drawing class, store the representations into the file.\n",
    "   * Write a loader function that reads the file and uses `eval` to instantiate the object.\n",
    "\n",
    "For example:"
   ]
  },
  {
   "cell_type": "code",
   "execution_count": null,
   "metadata": {},
   "outputs": [],
   "source": [
    "class foo:\n",
    "    def __init__(self,a,b=None):\n",
    "        self.a=a\n",
    "        self.b=b\n",
    "        \n",
    "    def __repr__(self):\n",
    "        return \"foo(\"+repr(self.a)+\",\"+repr(self.b)+\")\"\n",
    "    \n",
    "    def save(self,filename):\n",
    "        f=open(filename,\"w\")\n",
    "        f.write(self.__repr__())\n",
    "        f.close()\n",
    "        \n",
    "   \n",
    "def foo_loader(filename):\n",
    "    f=open(filename,\"r\")\n",
    "    tmp=eval(f.read())\n",
    "    f.close()\n",
    "    return tmp\n"
   ]
  },
  {
   "cell_type": "code",
   "execution_count": null,
   "metadata": {},
   "outputs": [],
   "source": [
    "# Test\n",
    "print(repr(foo(1,\"hello\")))"
   ]
  },
  {
   "cell_type": "code",
   "execution_count": null,
   "metadata": {},
   "outputs": [],
   "source": [
    "# Create an object and save it\n",
    "ff=foo(1,\"hello\")\n",
    "ff.save(\"Test.foo\")"
   ]
  },
  {
   "cell_type": "code",
   "execution_count": null,
   "metadata": {},
   "outputs": [],
   "source": [
    "# Check contents of the saved file\n",
    "!cat Test.foo"
   ]
  },
  {
   "cell_type": "code",
   "execution_count": null,
   "metadata": {},
   "outputs": [],
   "source": [
    "# Load the object\n",
    "ff_reloaded=foo_loader(\"Test.foo\")\n",
    "ff_reloaded"
   ]
  },
  {
   "cell_type": "code",
   "execution_count": null,
   "metadata": {},
   "outputs": [],
   "source": []
  },
  {
   "cell_type": "code",
   "execution_count": null,
   "metadata": {},
   "outputs": [],
   "source": []
  }
 ],
 "metadata": {
  "kernelspec": {
   "display_name": "Python 3 (ipykernel)",
   "language": "python",
   "name": "python3"
  },
  "language_info": {
   "codemirror_mode": {
    "name": "ipython",
    "version": 3
   },
   "file_extension": ".py",
   "mimetype": "text/x-python",
   "name": "python",
   "nbconvert_exporter": "python",
   "pygments_lexer": "ipython3",
   "version": "3.9.12"
  }
 },
 "nbformat": 4,
 "nbformat_minor": 2
}
