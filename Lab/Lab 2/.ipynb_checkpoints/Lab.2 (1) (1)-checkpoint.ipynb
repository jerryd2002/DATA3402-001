{
 "cells": [
  {
   "cell_type": "markdown",
   "metadata": {},
   "source": [
    "## Lab 2- Tic Tac Toe\n",
    "\n",
    "In this lab your will build a n x n Tic Tac Toe game. As you do the exercises, make sure your solutions work for any size Tic Tac Toe game. "
   ]
  },
  {
   "cell_type": "markdown",
   "metadata": {},
   "source": [
    "*Exercise 1:* Write a function that creates an n by n matrix (of list of lists) which will represent the state of a Tie Tac Toe game. Let 0, 1, and 2 represent empty, \"X\", and \"O\", respectively.\n"
   ]
  },
  {
   "cell_type": "code",
   "execution_count": 4,
   "metadata": {},
   "outputs": [],
   "source": [
    "# Write you solution here\n",
    "empty = 0\n",
    "X = 1\n",
    "O = 2\n",
    "\n",
    "def make_board(n):\n",
    "    board=[[empty]*n for i in range(n)]\n",
    "    return board"
   ]
  },
  {
   "cell_type": "code",
   "execution_count": 8,
   "metadata": {},
   "outputs": [
    {
     "data": {
      "text/plain": [
       "[[0, 0, 0, 0, 0],\n",
       " [0, 0, 0, 0, 0],\n",
       " [0, 0, 0, 0, 0],\n",
       " [0, 0, 0, 0, 0],\n",
       " [0, 0, 0, 0, 0]]"
      ]
     },
     "execution_count": 8,
     "metadata": {},
     "output_type": "execute_result"
    }
   ],
   "source": [
    "# Test your solution here\n",
    "\n",
    "make_board(5)"
   ]
  },
  {
   "cell_type": "code",
   "execution_count": 9,
   "metadata": {},
   "outputs": [
    {
     "data": {
      "text/plain": [
       "[[0, 0, 0], [0, 0, 0], [0, 0, 0]]"
      ]
     },
     "execution_count": 9,
     "metadata": {},
     "output_type": "execute_result"
    }
   ],
   "source": [
    "make_board(3)"
   ]
  },
  {
   "cell_type": "markdown",
   "metadata": {},
   "source": [
    "*Exercise 2:* Write a function that takes 2 integers `n` and `m` as input and draws a `n` by `m` game board. For example the following is a 3x3 board:\n",
    "```\n",
    "   --- --- --- \n",
    "  |   |   |   | \n",
    "   --- --- ---  \n",
    "  |   |   |   | \n",
    "   --- --- ---  \n",
    "  |   |   |   | \n",
    "   --- --- --- \n",
    "   ```"
   ]
  },
  {
   "cell_type": "code",
   "execution_count": 13,
   "metadata": {},
   "outputs": [],
   "source": [
    "# Write you solution here\n",
    "def draw_board(n,m):\n",
    "    print(' ---'*m)\n",
    "    for i in range(n):\n",
    "        print('|   '*(m+1))\n",
    "        print(' ---'*m)"
   ]
  },
  {
   "cell_type": "code",
   "execution_count": 14,
   "metadata": {},
   "outputs": [
    {
     "name": "stdout",
     "output_type": "stream",
     "text": [
      " --- --- ---\n",
      "|   |   |   |   \n",
      " --- --- ---\n",
      "|   |   |   |   \n",
      " --- --- ---\n",
      "|   |   |   |   \n",
      " --- --- ---\n"
     ]
    }
   ],
   "source": [
    "# Test your solution here\n",
    "draw_board(3,3)"
   ]
  },
  {
   "cell_type": "code",
   "execution_count": 15,
   "metadata": {},
   "outputs": [
    {
     "name": "stdout",
     "output_type": "stream",
     "text": [
      " --- --- --- --- ---\n",
      "|   |   |   |   |   |   \n",
      " --- --- --- --- ---\n",
      "|   |   |   |   |   |   \n",
      " --- --- --- --- ---\n",
      "|   |   |   |   |   |   \n",
      " --- --- --- --- ---\n"
     ]
    }
   ],
   "source": [
    "draw_board(3,5)"
   ]
  },
  {
   "cell_type": "markdown",
   "metadata": {},
   "source": [
    "*Exercise 3:* Modify exercise 2, so that it takes a matrix of the form from exercise 1 and draws a tic-tac-tie board with \"X\"s and \"O\"s.  "
   ]
  },
  {
   "cell_type": "code",
   "execution_count": 31,
   "metadata": {},
   "outputs": [],
   "source": [
    "# Write you solution here\n",
    "player_1 = 'X'\n",
    "player_2 = 'O'\n",
    "empty_space = ' '\n",
    "\n",
    "space_characters = {X: player_1,\n",
    "                  O: player_2,\n",
    "                  empty: empty_space}\n",
    "\n",
    "def draw_board2(board):\n",
    "    size = len(board)\n",
    "    rows = len(board)\n",
    "    col = len(board[0])\n",
    "\n",
    "    print(' ---'*col)\n",
    "    for i in range(size):\n",
    "        print('|',end=' ')\n",
    "        for j in range(col):\n",
    "            print(space_characters[board[i][j]],end=' ')\n",
    "            print('|',end=' ')\n",
    "        print()\n",
    "        print(' ---'*col)"
   ]
  },
  {
   "cell_type": "code",
   "execution_count": 35,
   "metadata": {},
   "outputs": [
    {
     "name": "stdout",
     "output_type": "stream",
     "text": [
      " --- --- ---\n",
      "| X | X | O | \n",
      " --- --- ---\n",
      "|   | O | X | \n",
      " --- --- ---\n",
      "| O |   | X | \n",
      " --- --- ---\n"
     ]
    }
   ],
   "source": [
    "# Test your solution here\n",
    "board1 = [[1,1,2],[0,2,1],[2,0,1]]\n",
    "\n",
    "draw_board2(board1)"
   ]
  },
  {
   "cell_type": "markdown",
   "metadata": {},
   "source": [
    "*Exercise 4:* Write a function that takes a `n` by `n` matrix representing a tic-tac-toe game, and returns -1, 0, 1, or 2 indicating the game is incomplete, the game is a draw, player 1 has won, or player 2 has one, respectively. Here are some example inputs you can use to test your code:"
   ]
  },
  {
   "cell_type": "code",
   "execution_count": 36,
   "metadata": {},
   "outputs": [],
   "source": [
    "def game_checker(board):\n",
    "    \n",
    "    def row_winner(board):\n",
    "        for i in range(len(board)):\n",
    "            if board[i] == [X]*len(board):\n",
    "                return X\n",
    "            elif board[i] == [O]*len(board):\n",
    "                return O\n",
    "        return False\n",
    "    \n",
    "    couls = []\n",
    "    for i in range(len(board)):\n",
    "        col = []\n",
    "        for j in range(len(board)):\n",
    "            col.append(board[j][i])\n",
    "        couls.append(col)\n",
    "    \n",
    "    def col_winner(board):\n",
    "        for i in range(len(board)):\n",
    "            if couls[i] == [X]*len(board):\n",
    "                return X\n",
    "            elif couls[i] == [O]*len(board):\n",
    "                return O\n",
    "        return False\n",
    "            \n",
    "    diag = []\n",
    "    diag1 = []\n",
    "    for i in range(len(board)):\n",
    "        diag.append(board[i][i])\n",
    "        diag1.append(board[i][len(board)-i-1])\n",
    "    diag_lst = [diag,diag1]\n",
    "    \n",
    "    def diag_winner(board):\n",
    "        for i in range(len(diag_lst)):\n",
    "            if diag_lst[i] == [X]*len(board):\n",
    "                return X\n",
    "            elif diag_lst[i] == [O]*len(board):\n",
    "                return O\n",
    "        return False\n",
    "    \n",
    "    def full(board):\n",
    "        x=0\n",
    "        for i in range(len(board)):\n",
    "            for j in range(len(board)):\n",
    "                if board[i][j] == empty:\n",
    "                    x+=1\n",
    "        if x==0:\n",
    "            return 0\n",
    "        else:\n",
    "            return False \n",
    "    if row_winner(board):\n",
    "        return row_winner(board)\n",
    "    elif col_winner(board):\n",
    "        return col_winner(board)\n",
    "    elif diag_winner(board):\n",
    "        return diag_winner(board)\n",
    "    elif full(board):\n",
    "        return full(board)\n",
    "    else:\n",
    "        return -1"
   ]
  },
  {
   "cell_type": "code",
   "execution_count": 40,
   "metadata": {},
   "outputs": [
    {
     "data": {
      "text/plain": [
       "1"
      ]
     },
     "execution_count": 40,
     "metadata": {},
     "output_type": "execute_result"
    }
   ],
   "source": [
    "# Write you solution here\n",
    "game_checker(winner_is_1)"
   ]
  },
  {
   "cell_type": "code",
   "execution_count": 41,
   "metadata": {},
   "outputs": [
    {
     "data": {
      "text/plain": [
       "2"
      ]
     },
     "execution_count": 41,
     "metadata": {},
     "output_type": "execute_result"
    }
   ],
   "source": [
    "# Test your solution here\n",
    "game_checker(winner_is_2)"
   ]
  },
  {
   "cell_type": "code",
   "execution_count": 42,
   "metadata": {},
   "outputs": [
    {
     "data": {
      "text/plain": [
       "1"
      ]
     },
     "execution_count": 42,
     "metadata": {},
     "output_type": "execute_result"
    }
   ],
   "source": [
    "game_checker(winner_is_also_1)"
   ]
  },
  {
   "cell_type": "code",
   "execution_count": 43,
   "metadata": {},
   "outputs": [
    {
     "data": {
      "text/plain": [
       "-1"
      ]
     },
     "execution_count": 43,
     "metadata": {},
     "output_type": "execute_result"
    }
   ],
   "source": [
    "game_checker(no_winner)"
   ]
  },
  {
   "cell_type": "code",
   "execution_count": 44,
   "metadata": {},
   "outputs": [
    {
     "data": {
      "text/plain": [
       "-1"
      ]
     },
     "execution_count": 44,
     "metadata": {},
     "output_type": "execute_result"
    }
   ],
   "source": [
    "game_checker(also_no_winner)"
   ]
  },
  {
   "cell_type": "code",
   "execution_count": 37,
   "metadata": {},
   "outputs": [],
   "source": [
    "winner_is_2 = [[2, 2, 0],\n",
    "\t[2, 1, 0],\n",
    "\t[2, 1, 1]]\n",
    "\n",
    "winner_is_1 = [[1, 2, 0],\n",
    "\t[2, 1, 0],\n",
    "\t[2, 1, 1]]\n",
    "\n",
    "winner_is_also_1 = [[0, 1, 0],\n",
    "\t[2, 1, 0],\n",
    "\t[2, 1, 1]]\n",
    "\n",
    "no_winner = [[1, 2, 0],\n",
    "\t[2, 1, 0],\n",
    "\t[2, 1, 2]]\n",
    "\n",
    "also_no_winner = [[1, 2, 0],\n",
    "\t[2, 1, 0],\n",
    "\t[2, 1, 0]]"
   ]
  },
  {
   "cell_type": "markdown",
   "metadata": {},
   "source": [
    "*Exercise 5:* Write a function that takes a game board, player number, and `(x,y)` coordinates and places \"X\" or \"O\" in the correct location of the game board. Make sure that you only allow filling previously empty locations. Return `True` or `False` to indicate successful placement of \"X\" or \"O\"."
   ]
  },
  {
   "cell_type": "code",
   "execution_count": 45,
   "metadata": {},
   "outputs": [],
   "source": [
    "# Write you solution here\n",
    "def move_maker(board,player,location):\n",
    "    x,y=location\n",
    "    if board[x][y] == empty:\n",
    "        board[x][y] = player\n",
    "        return board_2 \n",
    "    return False\n"
   ]
  },
  {
   "cell_type": "code",
   "execution_count": 53,
   "metadata": {},
   "outputs": [
    {
     "data": {
      "text/plain": [
       "False"
      ]
     },
     "execution_count": 53,
     "metadata": {},
     "output_type": "execute_result"
    }
   ],
   "source": [
    "# Test your solution here\n",
    "board_2 =  [[1,1,2],[0,2,1],[2,0,1]]\n",
    "move_maker(board2,X,(1,2))"
   ]
  },
  {
   "cell_type": "markdown",
   "metadata": {},
   "source": [
    "*Exercise 6:* Modify Exercise 4 to show column and row labels so that players can specify location using \"A2\" or \"C1\"."
   ]
  },
  {
   "cell_type": "code",
   "execution_count": 90,
   "metadata": {},
   "outputs": [],
   "source": [
    "# Write you solution here\n",
    "\n",
    "space_characters = {X: player_1,\n",
    "                  O: player_2,\n",
    "                  empty: empty_space}\n",
    "\n",
    "dimensions = 3\n",
    "rows_names = list('ABCDEFGHIJKLMNOPQRSTUVWXYZ')\n",
    "rows_map = dict(zip(rows_names,range(dimensions)))\n",
    "cols_names = list(map(str,range(1,dimensions+1)))\n",
    "cols_map = dict(zip(cols_names,range(dimensions)))\n",
    "\n",
    "\n",
    "def draw_board(board):\n",
    "    dimensions = len(board)\n",
    "    rows = len(board)\n",
    "    cols = len(board[0])\n",
    "    \n",
    "    print(' ',end=' ')\n",
    "    for i in range(dimensions):\n",
    "        print(' ',cols_names[i],end=' ')\n",
    "    print()\n",
    "    \n",
    "    for i in range(dimensions):\n",
    "        print('  ','----'*cols)\n",
    "        print(rows_names[i],end=' ')\n",
    "        print('|',end=' ')\n",
    "        for j in range(cols):\n",
    "            print(space_characters[board[i][j]],end=' ')\n",
    "            print('|',end=' ')\n",
    "        print()\n",
    "    print('  ','----'*cols)\n",
    "    return rows_map[rows],cols_map[cols]\n",
    "\n",
    "def location_checker(string):\n",
    "    rows_1 = string[0].upper()\n",
    "    cols_1 = string[1].upper()\n",
    "    \n",
    "    return row_map[row],col_map[col]\n",
    "\n"
   ]
  },
  {
   "cell_type": "code",
   "execution_count": 91,
   "metadata": {},
   "outputs": [
    {
     "name": "stdout",
     "output_type": "stream",
     "text": [
      "    1   2   3 \n",
      "   ------------\n",
      "A | X | X | O | \n",
      "   ------------\n",
      "B |   | O | X | \n",
      "   ------------\n",
      "C | O |   | X | \n",
      "   ------------\n"
     ]
    },
    {
     "ename": "KeyError",
     "evalue": "3",
     "output_type": "error",
     "traceback": [
      "\u001b[0;31m---------------------------------------------------------------------------\u001b[0m",
      "\u001b[0;31mKeyError\u001b[0m                                  Traceback (most recent call last)",
      "Input \u001b[0;32mIn [91]\u001b[0m, in \u001b[0;36m<cell line: 2>\u001b[0;34m()\u001b[0m\n\u001b[1;32m      1\u001b[0m \u001b[38;5;66;03m# Test your solution here\u001b[39;00m\n\u001b[0;32m----> 2\u001b[0m \u001b[43mdraw_board\u001b[49m\u001b[43m(\u001b[49m\u001b[43mboard_2\u001b[49m\u001b[43m)\u001b[49m\n",
      "Input \u001b[0;32mIn [90]\u001b[0m, in \u001b[0;36mdraw_board\u001b[0;34m(board)\u001b[0m\n\u001b[1;32m     31\u001b[0m     \u001b[38;5;28mprint\u001b[39m()\n\u001b[1;32m     32\u001b[0m \u001b[38;5;28mprint\u001b[39m(\u001b[38;5;124m'\u001b[39m\u001b[38;5;124m  \u001b[39m\u001b[38;5;124m'\u001b[39m,\u001b[38;5;124m'\u001b[39m\u001b[38;5;124m----\u001b[39m\u001b[38;5;124m'\u001b[39m\u001b[38;5;241m*\u001b[39mcols)\n\u001b[0;32m---> 33\u001b[0m \u001b[38;5;28;01mreturn\u001b[39;00m \u001b[43mrows_map\u001b[49m\u001b[43m[\u001b[49m\u001b[43mrows\u001b[49m\u001b[43m]\u001b[49m,cols_map[cols]\n",
      "\u001b[0;31mKeyError\u001b[0m: 3"
     ]
    }
   ],
   "source": [
    "# Test your solution here\n",
    "draw_board(board_2)"
   ]
  },
  {
   "cell_type": "markdown",
   "metadata": {},
   "source": [
    "*Exercise 7:* Write a function that takes a board, player number, and location specified as in exercise 6 and then calls exercise 5 to correctly modify the board.  "
   ]
  },
  {
   "cell_type": "code",
   "execution_count": 93,
   "metadata": {},
   "outputs": [],
   "source": [
    "# Write you solution here\n",
    "\n",
    "def make_move(board,player,string):\n",
    "    positions_locked = parse_location(string)\n",
    "    \n",
    "    if positions_locked:\n",
    "        return make_move(board,player,positions_locked)"
   ]
  },
  {
   "cell_type": "code",
   "execution_count": 94,
   "metadata": {},
   "outputs": [
    {
     "name": "stdout",
     "output_type": "stream",
     "text": [
      "    1   2   3 \n",
      "   ------------\n",
      "A |   |   | X | \n",
      "   ------------\n",
      "B |   |   | O | \n",
      "   ------------\n",
      "C | O |   | X | \n",
      "   ------------\n"
     ]
    },
    {
     "ename": "KeyError",
     "evalue": "3",
     "output_type": "error",
     "traceback": [
      "\u001b[0;31m---------------------------------------------------------------------------\u001b[0m",
      "\u001b[0;31mKeyError\u001b[0m                                  Traceback (most recent call last)",
      "Input \u001b[0;32mIn [94]\u001b[0m, in \u001b[0;36m<cell line: 5>\u001b[0;34m()\u001b[0m\n\u001b[1;32m      1\u001b[0m \u001b[38;5;66;03m# Test your solution here\u001b[39;00m\n\u001b[1;32m      2\u001b[0m board_5 \u001b[38;5;241m=\u001b[39m  [[\u001b[38;5;241m0\u001b[39m,\u001b[38;5;241m0\u001b[39m,\u001b[38;5;241m1\u001b[39m],[\u001b[38;5;241m0\u001b[39m,\u001b[38;5;241m0\u001b[39m,\u001b[38;5;241m2\u001b[39m],[\u001b[38;5;241m2\u001b[39m,\u001b[38;5;241m0\u001b[39m,\u001b[38;5;241m1\u001b[39m]]\n\u001b[0;32m----> 5\u001b[0m board_3 \u001b[38;5;241m=\u001b[39m \u001b[43mdraw_board\u001b[49m\u001b[43m(\u001b[49m\u001b[43mboard_5\u001b[49m\u001b[43m)\u001b[49m\n\u001b[1;32m      6\u001b[0m make_board(board_3,X,\u001b[38;5;124m'\u001b[39m\u001b[38;5;124mA2\u001b[39m\u001b[38;5;124m'\u001b[39m)\n",
      "Input \u001b[0;32mIn [90]\u001b[0m, in \u001b[0;36mdraw_board\u001b[0;34m(board)\u001b[0m\n\u001b[1;32m     31\u001b[0m     \u001b[38;5;28mprint\u001b[39m()\n\u001b[1;32m     32\u001b[0m \u001b[38;5;28mprint\u001b[39m(\u001b[38;5;124m'\u001b[39m\u001b[38;5;124m  \u001b[39m\u001b[38;5;124m'\u001b[39m,\u001b[38;5;124m'\u001b[39m\u001b[38;5;124m----\u001b[39m\u001b[38;5;124m'\u001b[39m\u001b[38;5;241m*\u001b[39mcols)\n\u001b[0;32m---> 33\u001b[0m \u001b[38;5;28;01mreturn\u001b[39;00m \u001b[43mrows_map\u001b[49m\u001b[43m[\u001b[49m\u001b[43mrows\u001b[49m\u001b[43m]\u001b[49m,cols_map[cols]\n",
      "\u001b[0;31mKeyError\u001b[0m: 3"
     ]
    }
   ],
   "source": [
    "# Test your solution here\n",
    "board_5 =  [[0,0,1],[0,0,2],[2,0,1]]\n",
    "\n",
    "\n",
    "board_3 = draw_board(board_5)\n",
    "make_board(board_3,X,'A2')"
   ]
  },
  {
   "cell_type": "markdown",
   "metadata": {},
   "source": [
    "*Exercise 8:* Write a function is called with a board and player number, takes input from the player using python's `input`, and modifies the board using your function from exercise 7. Note that you should keep asking for input until you have gotten a valid input that results in a valid move."
   ]
  },
  {
   "cell_type": "code",
   "execution_count": null,
   "metadata": {},
   "outputs": [],
   "source": [
    "# Write you solution here\n",
    "\n",
    "def move(board,player):\n",
    "    good = False\n",
    "    \n",
    "    while not good:\n",
    "        location_placer = input('Input location:')    \n",
    "        good = move(board,player,location_placer)"
   ]
  },
  {
   "cell_type": "code",
   "execution_count": null,
   "metadata": {},
   "outputs": [],
   "source": [
    "# Test your solution here\n",
    "board_6 = [[0,0,0],[0,0,0],[0,0,0]]\n",
    "\n",
    "move(board_6,X)\n",
    "draw_board(board_6)"
   ]
  },
  {
   "cell_type": "markdown",
   "metadata": {},
   "source": [
    "*Exercise 9:* Use all of the previous exercises to implement a full tic-tac-toe game, where an appropriate board is drawn, 2 players are repeatedly asked for a location coordinates of where they wish to place a mark, and the game status is checked until a player wins or a draw occurs."
   ]
  },
  {
   "cell_type": "code",
   "execution_count": null,
   "metadata": {
    "collapsed": true
   },
   "outputs": [],
   "source": [
    "# Write you solution here\n",
    "\n"
   ]
  },
  {
   "cell_type": "code",
   "execution_count": null,
   "metadata": {
    "collapsed": true
   },
   "outputs": [],
   "source": [
    "# Test your solution here"
   ]
  },
  {
   "cell_type": "markdown",
   "metadata": {},
   "source": [
    "*Exercise 10:* Test that your game works for 5x5 Tic Tac Toe.  "
   ]
  },
  {
   "cell_type": "code",
   "execution_count": null,
   "metadata": {
    "collapsed": true
   },
   "outputs": [],
   "source": [
    "# Test your solution here"
   ]
  },
  {
   "cell_type": "markdown",
   "metadata": {},
   "source": [
    "*Exercise 11:* (Advanced / Challenge) Develop a version of the game where one player is the computer. Note that you don't need to do an extensive seach for the best move. You can have the computer simply protect against loosing and otherwise try to win with straight or diagonal patterns."
   ]
  },
  {
   "cell_type": "code",
   "execution_count": null,
   "metadata": {
    "collapsed": true
   },
   "outputs": [],
   "source": [
    "# Write you solution here"
   ]
  },
  {
   "cell_type": "code",
   "execution_count": null,
   "metadata": {
    "collapsed": true
   },
   "outputs": [],
   "source": [
    "# Test your solution here"
   ]
  }
 ],
 "metadata": {
  "kernelspec": {
   "display_name": "Python 3 (ipykernel)",
   "language": "python",
   "name": "python3"
  },
  "language_info": {
   "codemirror_mode": {
    "name": "ipython",
    "version": 3
   },
   "file_extension": ".py",
   "mimetype": "text/x-python",
   "name": "python",
   "nbconvert_exporter": "python",
   "pygments_lexer": "ipython3",
   "version": "3.9.12"
  }
 },
 "nbformat": 4,
 "nbformat_minor": 2
}
